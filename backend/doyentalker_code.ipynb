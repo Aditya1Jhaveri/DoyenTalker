{
  "cells": [
    {
      "cell_type": "code",
      "execution_count": 1,
      "metadata": {
        "colab": {
          "base_uri": "https://localhost:8080/"
        },
        "id": "1mwlt-jxM9Zy",
        "outputId": "b73ca7c7-8029-40f1-d9b4-90fe556ca71c"
      },
      "outputs": [
        {
          "name": "stdout",
          "output_type": "stream",
          "text": [
            "Mounted at /content/drive\n"
          ]
        }
      ],
      "source": [
        "from google.colab import drive\n",
        "drive.mount('/content/drive')"
      ]
    },
    {
      "cell_type": "code",
      "execution_count": null,
      "metadata": {
        "colab": {
          "base_uri": "https://localhost:8080/",
          "height": 1000
        },
        "id": "ZIbRxoQS2euu",
        "outputId": "f432b6c8-4bca-406e-f488-0ae886639188"
      },
      "outputs": [],
      "source": [
        "!git clone https://github.com/Aditya1Jhaveri/DoyenTalker.git &> /dev/null\n",
        "%cd DoyenTalker\n",
        "%cd backend\n",
        "!pip install -r requirements.txt"
      ]
    },
    {
      "cell_type": "code",
      "execution_count": 1,
      "metadata": {
        "colab": {
          "base_uri": "https://localhost:8080/"
        },
        "id": "79gr1DH5m6O_",
        "outputId": "ce864f19-9dcb-44b5-cf00-83a8e23fc751"
      },
      "outputs": [
        {
          "name": "stdout",
          "output_type": "stream",
          "text": [
            "/content/DoyenTalker\n"
          ]
        }
      ],
      "source": [
        "%cd DoyenTalker"
      ]
    },
    {
      "cell_type": "code",
      "execution_count": null,
      "metadata": {
        "colab": {
          "base_uri": "https://localhost:8080/"
        },
        "id": "Dt7VLpKd2esl",
        "outputId": "7bc3bf40-f9b0-4b07-cf63-562e69c025b8"
      },
      "outputs": [],
      "source": [
        "print('Download pre-trained models...')\n",
        "!rm -rf checkpoints\n",
        "!bash model_scripts/download_models.sh"
      ]
    },
    {
      "cell_type": "code",
      "execution_count": null,
      "metadata": {
        "colab": {
          "base_uri": "https://localhost:8080/",
          "height": 1000
        },
        "id": "NaFnXubVY7tG",
        "outputId": "62591303-499e-4471-da99-02332b03bb65"
      },
      "outputs": [],
      "source": [
        "!pip install TTS"
      ]
    },
    {
      "cell_type": "code",
      "execution_count": 1,
      "metadata": {
        "colab": {
          "base_uri": "https://localhost:8080/"
        },
        "id": "2hm5tmKydb0l",
        "outputId": "bae44464-3bef-433f-e686-fa941c54cf17"
      },
      "outputs": [
        {
          "name": "stdout",
          "output_type": "stream",
          "text": [
            "/content/DoyenTalker\n"
          ]
        }
      ],
      "source": [
        "%cd DoyenTalker"
      ]
    },
    {
      "cell_type": "markdown",
      "metadata": {
        "id": "2VDKeB0ue2IW"
      },
      "source": [
        "# Script file to run"
      ]
    },
    {
      "cell_type": "code",
      "execution_count": 10,
      "metadata": {
        "colab": {
          "base_uri": "https://localhost:8080/"
        },
        "id": "Gs3VttM06KAP",
        "outputId": "ec9205c5-1c60-40d3-d1e2-24824e781bd9"
      },
      "outputs": [
        {
          "name": "stdout",
          "output_type": "stream",
          "text": [
            "path_id: ./results/1721635983 path: ./results/1721635983\n",
            "-----------------------------------------\n",
            "generating speech\n",
            " > Text splitted to sentences.\n",
            "['Ladies and gentlemen,', 'Education is the cornerstone of our society, shaping the minds and futures of our youth.', 'It is not merely about acquiring knowledge from textbooks, but also about developing critical thinking, creativity, and the ability to adapt to an ever-changing world.', 'Every child deserves access to quality education, as it lays the foundation for personal growth, career success, and civic responsibility.', 'Investing in education means investing in the future.', 'It empowers individuals to break the cycle of poverty, fosters innovation, and drives economic development.', \"In today's digital age, it is crucial to integrate technology into the learning process, making education more accessible and engaging for all.\", 'Teachers play a pivotal role in this journey.', 'Their dedication and passion inspire students to reach their full potential.', 'Therefore, we must support and value our educators, providing them with the resources and training they need to thrive.', 'Let us work together to create an inclusive and equitable education system that nurtures the talents of every student, ensuring a brighter, more prosperous future for all.', 'Thank you.']\n",
            " > Processing time: 43.86455965042114\n",
            " > Real-time factor: 0.49280045544263085\n",
            "\n",
            "generated speech: output.wav\n",
            "using safetensor as default\n",
            "3DMM Extraction for source image\n"
          ]
        },
        {
          "name": "stderr",
          "output_type": "stream",
          "text": [
            "landmark Det:: 100%|██████████| 1/1 [00:00<00:00, 17.25it/s]\n",
            "3DMM Extraction In Video:: 100%|██████████| 1/1 [00:00<00:00, 79.30it/s]\n",
            "mel:: 100%|██████████| 2044/2044 [00:00<00:00, 41603.74it/s]\n",
            "audio2exp:: 100%|██████████| 205/205 [00:00<00:00, 465.33it/s]\n",
            "Face Renderer:: 100%|██████████| 1022/1022 [10:06<00:00,  1.69it/s]\n"
          ]
        },
        {
          "name": "stdout",
          "output_type": "stream",
          "text": [
            "The generated video is named ./results/1721635983/male1##output.mp4\n"
          ]
        },
        {
          "name": "stderr",
          "output_type": "stream",
          "text": [
            "seamlessClone:: 100%|██████████| 2044/2044 [03:00<00:00, 11.31it/s]\n"
          ]
        },
        {
          "name": "stdout",
          "output_type": "stream",
          "text": [
            "The generated video is named ./results/1721635983/male1##output_full.mp4\n",
            "The generated video is named: ./results/1721635983.mp4\n",
            "done\n",
            "Overall timing\n",
            "--------------\n",
            "generating speech: 44 seconds\n",
            "generating avatar image: a moment\n",
            "animating face: 13 minutes\n",
            "total time: 14 minutes\n"
          ]
        }
      ],
      "source": [
        "%run main.py  --message_file \"/content/drive/MyDrive/voice_cloning_data/test_message.txt\" --voice \"/content/DoyenTalker/assets/voice/ab_voice.mp3\" --lang en --avatar_image \"/content/DoyenTalker/assets/avatar/male1.jpeg\""
      ]
    },
    {
      "cell_type": "code",
      "execution_count": 11,
      "metadata": {
        "colab": {
          "base_uri": "https://localhost:8080/"
        },
        "id": "-fH2PgoXotBV",
        "outputId": "1c7aa70a-8962-4079-feac-9842f8763081"
      },
      "outputs": [
        {
          "name": "stdout",
          "output_type": "stream",
          "text": [
            "usage: main.py [-h] [--message_file MESSAGE_FILE] [--voice VOICE] [--lang LANG]\n",
            "               [--avatar_image AVATAR_IMAGE] [--ref_eyeblink REF_EYEBLINK] [--ref_pose REF_POSE]\n",
            "               [--checkpoint_dir CHECKPOINT_DIR] [--result_dir RESULT_DIR]\n",
            "               [--pose_style POSE_STYLE] [--batch_size BATCH_SIZE] [--size SIZE]\n",
            "               [--expression_scale EXPRESSION_SCALE] [--input_yaw INPUT_YAW [INPUT_YAW ...]]\n",
            "               [--input_pitch INPUT_PITCH [INPUT_PITCH ...]]\n",
            "               [--input_roll INPUT_ROLL [INPUT_ROLL ...]] [--enhancer ENHANCER]\n",
            "               [--background_enhancer BACKGROUND_ENHANCER] [--cpu] [--face3dvis] [--still STILL]\n",
            "               [--preprocess {crop,extcrop,resize,full,extfull}] [--verbose] [--old_version]\n",
            "               [--net_recon {resnet18,resnet34,resnet50}] [--init_path INIT_PATH]\n",
            "               [--use_last_fc USE_LAST_FC] [--bfm_folder BFM_FOLDER] [--bfm_model BFM_MODEL]\n",
            "               [--focal FOCAL] [--center CENTER] [--camera_d CAMERA_D] [--z_near Z_NEAR]\n",
            "               [--z_far Z_FAR]\n",
            "\n",
            "options:\n",
            "  -h, --help            show this help message and exit\n",
            "  --message_file MESSAGE_FILE\n",
            "                        path to the file containing the speech message\n",
            "  --voice VOICE         path to speaker voice file\n",
            "  --lang LANG           select the language for speaker voice option are (en - English , es -\n",
            "                        Spanish , fr - French , de - German , it - Italian , pt - Portuguese , pl\n",
            "                        - Polish , tr - Turkish , ru - Russian , nl - Dutch , cs - Czech , ar -\n",
            "                        Araic , zh-cn - Chinese (Simplified) , hu - Hungarian , ko - Korean , ja -\n",
            "                        Japanese , hi - Hindi)\n",
            "  --avatar_image AVATAR_IMAGE\n",
            "                        path to avatar image\n",
            "  --ref_eyeblink REF_EYEBLINK\n",
            "                        path to reference video providing eye blinking\n",
            "  --ref_pose REF_POSE   path to reference video providing pose\n",
            "  --checkpoint_dir CHECKPOINT_DIR\n",
            "                        path to output\n",
            "  --result_dir RESULT_DIR\n",
            "                        path to output\n",
            "  --pose_style POSE_STYLE\n",
            "                        input pose style from [0, 46)\n",
            "  --batch_size BATCH_SIZE\n",
            "                        the batch size of facerender\n",
            "  --size SIZE           the image size of the facerender\n",
            "  --expression_scale EXPRESSION_SCALE\n",
            "                        a larger value will make the expression motion stronger (max 3.0).\n",
            "  --input_yaw INPUT_YAW [INPUT_YAW ...]\n",
            "                        the input yaw degree of the user\n",
            "  --input_pitch INPUT_PITCH [INPUT_PITCH ...]\n",
            "                        the input pitch degree of the user\n",
            "  --input_roll INPUT_ROLL [INPUT_ROLL ...]\n",
            "                        the input roll degree of the user\n",
            "  --enhancer ENHANCER   Face enhancer, [gfpgan, RestoreFormer] to enhance the generated face via\n",
            "                        face restoration network\n",
            "  --background_enhancer BACKGROUND_ENHANCER\n",
            "                        background enhancer, [realesrgan]\n",
            "  --cpu\n",
            "  --face3dvis           generate 3d face and 3d landmarks\n",
            "  --still STILL         using the same pose parameters as the original image, fewer head motion.\n",
            "  --preprocess {crop,extcrop,resize,full,extfull}\n",
            "                        how to preprocess the images\n",
            "  --verbose             saving the intermediate output or not\n",
            "  --old_version         use the pth other than safetensor version\n",
            "  --net_recon {resnet18,resnet34,resnet50}\n",
            "                        useless\n",
            "  --init_path INIT_PATH\n",
            "                        Useless\n",
            "  --use_last_fc USE_LAST_FC\n",
            "                        zero initialize the last fc\n",
            "  --bfm_folder BFM_FOLDER\n",
            "  --bfm_model BFM_MODEL\n",
            "                        bfm model\n",
            "  --focal FOCAL\n",
            "  --center CENTER\n",
            "  --camera_d CAMERA_D\n",
            "  --z_near Z_NEAR\n",
            "  --z_far Z_FAR\n"
          ]
        }
      ],
      "source": [
        "%run main --help"
      ]
    },
    {
      "cell_type": "markdown",
      "metadata": {
        "id": "9qJps3VHeX19"
      },
      "source": [
        "# Gradio Code for Interface"
      ]
    },
    {
      "cell_type": "code",
      "execution_count": null,
      "metadata": {
        "colab": {
          "base_uri": "https://localhost:8080/",
          "height": 1000
        },
        "id": "GZDgJvUqpMob",
        "outputId": "b80265be-24fc-4163-fe89-924899d9d50e"
      },
      "outputs": [
        {
          "name": "stdout",
          "output_type": "stream",
          "text": [
            "Setting queue=True in a Colab notebook requires sharing enabled. Setting `share=True` (you can turn this off by setting `share=False` in `launch()` explicitly).\n",
            "\n",
            "Colab notebook detected. This cell will run indefinitely so that you can see errors and logs. To turn off, set debug=False in launch().\n",
            "Running on public URL: https://c467d41e63f4bf5365.gradio.live\n",
            "\n",
            "This share link expires in 72 hours. For free permanent hosting and GPU upgrades, run `gradio deploy` from Terminal to deploy to Spaces (https://huggingface.co/spaces)\n"
          ]
        },
        {
          "data": {
            "text/html": [
              "<div><iframe src=\"https://c467d41e63f4bf5365.gradio.live\" width=\"100%\" height=\"500\" allow=\"autoplay; camera; microphone; clipboard-read; clipboard-write;\" frameborder=\"0\" allowfullscreen></iframe></div>"
            ],
            "text/plain": [
              "<IPython.core.display.HTML object>"
            ]
          },
          "metadata": {},
          "output_type": "display_data"
        },
        {
          "name": "stdout",
          "output_type": "stream",
          "text": [
            "path_id: results/1720789140 path: results/1720789140\n",
            "-----------------------------------------\n",
            "generating speech\n",
            " > Text splitted to sentences.\n",
            "['Dear students,', 'Today, I want to talk to you about the power of perseverance.', 'Life is not always smooth sailing; it’s more like a roller coaster with its ups and downs.', 'But remember, it’s the bumps and twists that make the ride exciting and memorable.', 'When you face challenges or setbacks, it’s easy to feel discouraged.', 'However, it’s during these tough times that your true strength shines through.', 'It’s the moments when you refuse to give up that define your character and set the stage for your success.', 'Think of every obstacle as an opportunity to learn and grow.', 'Embrace failure as a stepping stone to your goals.', 'Remember, every successful person you admire faced failures but never let them define their journey.', 'Believe in yourself, your abilities, and your dreams.', 'Surround yourself with positive influences and keep moving forward.', 'The path to success may be long and challenging, but with perseverance, dedication, and a positive attitude, you’ll overcome any obstacle and achieve greatness.']\n",
            " > Processing time: 55.07838010787964\n",
            " > Real-time factor: 0.6651963700161393\n",
            "\n",
            "generating speech: output.wav\n",
            "using safetensor as default\n",
            "3DMM Extraction for source image\n"
          ]
        },
        {
          "name": "stderr",
          "output_type": "stream",
          "text": [
            "landmark Det:: 100%|██████████| 1/1 [00:00<00:00,  8.78it/s]\n",
            "3DMM Extraction In Video:: 100%|██████████| 1/1 [00:00<00:00, 16.76it/s]\n",
            "mel:: 100%|██████████| 1901/1901 [00:00<00:00, 21030.49it/s]\n",
            "audio2exp:: 100%|██████████| 191/191 [00:00<00:00, 272.35it/s]\n",
            "Face Renderer:: 100%|██████████| 951/951 [08:58<00:00,  1.76it/s]\n",
            "WARNING:imageio_ffmpeg:IMAGEIO FFMPEG_WRITER WARNING: input image is not divisible by macro_block_size=16, resizing from (256, 255) to (256, 256) to ensure video compatibility with most codecs and players. To prevent resizing, make your input image divisible by the macro_block_size or set the macro_block_size to 1 (risking incompatibility).\n"
          ]
        },
        {
          "name": "stdout",
          "output_type": "stream",
          "text": [
            "The generated video is named results/1720789140/male2##output.mp4\n"
          ]
        },
        {
          "name": "stderr",
          "output_type": "stream",
          "text": [
            "seamlessClone:: 100%|██████████| 1901/1901 [03:28<00:00,  9.11it/s]\n"
          ]
        },
        {
          "name": "stdout",
          "output_type": "stream",
          "text": [
            "The generated video is named results/1720789140/male2##output_full.mp4\n",
            "The generated video is named: results/1720789140/generated_video.mp4\n",
            "done\n",
            "Overall timing\n",
            "--------------\n",
            "generating speech: 55 seconds\n",
            "generating avatar image: a moment\n",
            "animating face: 12 minutes\n",
            "total time: 13 minutes\n",
            "path_id: results/1720790095 path: results/1720790095\n",
            "-----------------------------------------\n",
            "generating speech\n",
            " > Text splitted to sentences.\n",
            "['Dear students,', 'Today, I want to talk to you about the power of perseverance.', 'Life is not always smooth sailing; it’s more like a roller coaster with its ups and downs.', 'But remember, it’s the bumps and twists that make the ride exciting and memorable.', 'When you face challenges or setbacks, it’s easy to feel discouraged.', 'However, it’s during these tough times that your true strength shines through.', 'It’s the moments when you refuse to give up that define your character and set the stage for your success.', 'Think of every obstacle as an opportunity to learn and grow.', 'Embrace failure as a stepping stone to your goals.', 'Remember, every successful person you admire faced failures but never let them define their journey.', 'Believe in yourself, your abilities, and your dreams.', 'Surround yourself with positive influences and keep moving forward.', 'The path to success may be long and challenging, but with perseverance, dedication, and a positive attitude, you’ll overcome any obstacle and achieve greatness.']\n",
            " > Processing time: 62.22129535675049\n",
            " > Real-time factor: 0.6730404824262922\n",
            "\n",
            "generating speech: output.wav\n",
            "using safetensor as default\n",
            "3DMM Extraction for source image\n"
          ]
        },
        {
          "name": "stderr",
          "output_type": "stream",
          "text": [
            "landmark Det:: 100%|██████████| 1/1 [00:00<00:00, 16.83it/s]\n",
            "3DMM Extraction In Video:: 100%|██████████| 1/1 [00:00<00:00, 18.28it/s]\n",
            "mel:: 100%|██████████| 2123/2123 [00:00<00:00, 42179.07it/s]\n",
            "audio2exp:: 100%|██████████| 213/213 [00:00<00:00, 402.01it/s]\n",
            "Face Renderer:: 100%|██████████| 1062/1062 [10:01<00:00,  1.76it/s]\n"
          ]
        }
      ],
      "source": [
        "%run interface.py"
      ]
    },
    {
      "cell_type": "code",
      "execution_count": null,
      "metadata": {
        "id": "r7AZIMZxslLt"
      },
      "outputs": [],
      "source": []
    }
  ],
  "metadata": {
    "colab": {
      "provenance": []
    },
    "kernelspec": {
      "display_name": "Python 3",
      "name": "python3"
    },
    "language_info": {
      "name": "python"
    }
  },
  "nbformat": 4,
  "nbformat_minor": 0
}
